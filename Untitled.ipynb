{
 "cells": [
  {
   "cell_type": "code",
   "execution_count": 1,
   "metadata": {},
   "outputs": [],
   "source": [
    "import os\n",
    "import codecs\n",
    "import numpy as np\n",
    "import re\n",
    "import collections\n",
    "import torch"
   ]
  },
  {
   "cell_type": "code",
   "execution_count": 2,
   "metadata": {},
   "outputs": [
    {
     "data": {
      "text/plain": [
       "'/home/topkek/python_directory/DS_internship-master'"
      ]
     },
     "execution_count": 2,
     "metadata": {},
     "output_type": "execute_result"
    }
   ],
   "source": [
    "os.path.abspath(\"\")"
   ]
  },
  {
   "cell_type": "code",
   "execution_count": 3,
   "metadata": {},
   "outputs": [],
   "source": [
    "data_path = '/home/topkek/python_directory/DS_internship-master/aclImdb'\n",
    "train_texts = []\n",
    "train_labels = []\n",
    "for category in ['pos', 'neg']:\n",
    "    train_data_path = os.path.join(data_path, 'train', category)\n",
    "    for fname in sorted(os.listdir(train_data_path)):\n",
    "        if fname.endswith('.txt'):\n",
    "            with codecs.open(os.path.join(train_data_path, fname), 'r', 'utf_8_sig') as f:\n",
    "                train_texts.append(f.read())\n",
    "            train_labels.append(0 if category == 'neg' else 1)\n",
    "\n",
    "test_texts = []\n",
    "test_labels = []\n",
    "for category in ['pos', 'neg']:\n",
    "    test_data_path = os.path.join(data_path, 'test', category)\n",
    "    for fname in sorted(os.listdir(test_data_path)):\n",
    "        if fname.endswith('.txt'):\n",
    "            with codecs.open(os.path.join(test_data_path, fname), 'r', 'utf_8_sig') as f:\n",
    "                test_texts.append(f.read())\n",
    "            test_labels.append(0 if category == 'neg' else 1)"
   ]
  },
  {
   "cell_type": "code",
   "execution_count": 4,
   "metadata": {},
   "outputs": [],
   "source": [
    "_patterns = [r'\\\"',\n",
    "             r'<br /><br />',\n",
    "             r'\\;',\n",
    "             r'\\:',\n",
    "             r'\\s+',\n",
    "             r'\\(',\n",
    "             r'\\)']\n",
    "\n",
    "_replacements = ['',\n",
    "                 ' ',\n",
    "                 ' ',\n",
    "                 ' ',\n",
    "                 ' ',\n",
    "                '',\n",
    "                '']\n",
    "_patterns_dict = list((re.compile(p), r) for p, r in zip(_patterns, _replacements))\n",
    "\n",
    "def normalize(line):\n",
    "    line = line.lower()\n",
    "    for pattern_re, replaced_str in _patterns_dict:\n",
    "        line = pattern_re.sub(replaced_str, line)\n",
    "    return line\n",
    "\n",
    "TOKEN_RE = re.compile(r'[a-z]+|\\d+[.,]\\d+|\\d+')\n",
    "\n",
    "def tokenize(txt, min_token_size = 3):\n",
    "    txt = normalize(txt)\n",
    "    all_tokens = TOKEN_RE.findall(txt)\n",
    "    return [token for token in all_tokens if len(token) >= min_token_size]\n",
    "\n",
    "def tokenize_corpus(texts, tokenizer=tokenize, **tokenizer_kwargs):\n",
    "    return [tokenizer(text, **tokenizer_kwargs) for text in texts]"
   ]
  },
  {
   "cell_type": "code",
   "execution_count": 5,
   "metadata": {},
   "outputs": [],
   "source": [
    "texts = train_texts + test_texts\n",
    "labels = train_labels + test_labels"
   ]
  },
  {
   "cell_type": "code",
   "execution_count": 6,
   "metadata": {},
   "outputs": [],
   "source": [
    "from string import punctuation\n",
    "\n",
    "# Функция, собирающая в себе нормализацию и токенизацию всего корпуса одновременно\n",
    "def preprocess(text):\n",
    "    text = [normalize(texti) for texti in text]\n",
    "    all_reviews = tokenize_corpus(text, min_token_size = 3)\n",
    "    text = \" \".join(text)\n",
    "    all_words = tokenize(text, min_token_size = 3)\n",
    "    \n",
    "    return all_reviews, all_words\n",
    "\n",
    "\n",
    "all_reviews, all_words = preprocess(train_texts)"
   ]
  },
  {
   "cell_type": "markdown",
   "metadata": {},
   "source": [
    "-----------\n",
    "# FastText"
   ]
  },
  {
   "cell_type": "code",
   "execution_count": 12,
   "metadata": {},
   "outputs": [],
   "source": [
    "import pyfasttext\n",
    "import pandas as pd\n",
    "from sklearn.utils import shuffle\n",
    "from sklearn.model_selection import train_test_split"
   ]
  },
  {
   "cell_type": "code",
   "execution_count": 101,
   "metadata": {},
   "outputs": [],
   "source": [
    "df = pd.DataFrame(list(zip(texts, labels)), columns = ['texts', 'labels'])\n",
    "\n",
    "df = '__label__' + df['labels'].apply(str) + ' ' + df['texts']\n",
    "\n",
    "train, test = train_test_split(df, train_size = 0.95, random_state  = 0)"
   ]
  },
  {
   "cell_type": "code",
   "execution_count": 102,
   "metadata": {},
   "outputs": [],
   "source": [
    "np.savetxt('train.txt', train, delimiter = ' ', fmt = '%s')"
   ]
  },
  {
   "cell_type": "markdown",
   "metadata": {},
   "source": [
    "## Training"
   ]
  },
  {
   "cell_type": "code",
   "execution_count": 107,
   "metadata": {},
   "outputs": [],
   "source": [
    "model = pyfasttext.FastText()\n",
    "model.supervised(input='train.txt', output='model', epoch=50, wordNgrams = 2, label = '__label__')"
   ]
  },
  {
   "cell_type": "code",
   "execution_count": 108,
   "metadata": {},
   "outputs": [
    {
     "name": "stdout",
     "output_type": "stream",
     "text": [
      "train accuracy: 0.9999789473684211\n",
      "test accuracy: 0.9164\n"
     ]
    }
   ],
   "source": [
    "test_accuracy = np.mean(np.abs(pd.Series(model.predict(test.apply(lambda x: x[11:]))).apply(lambda x: int(x[0])) - \\\n",
    "    test.apply(lambda x: int(x[9])).reset_index()[0]))\n",
    "\n",
    "train_accuracy = np.mean(np.abs(pd.Series(model.predict(train.apply(lambda x: x[11:]))).apply(lambda x: int(x[0])) - \\\n",
    "    train.apply(lambda x: int(x[9])).reset_index()[0]))\n",
    "\n",
    "print('train accuracy:', 1- train_accuracy)\n",
    "print('test accuracy:', 1- test_accuracy)"
   ]
  },
  {
   "cell_type": "markdown",
   "metadata": {},
   "source": [
    "---\n",
    "model.supervised(input='train.txt', output='model', epoch=50, wordNgrams = 2, label = '__label__')    \n",
    "train accuracy: 0.9999789473684211\n",
    "test accuracy: 0.9164\n",
    "\n",
    "---\n",
    "\n",
    "\n",
    "\n"
   ]
  },
  {
   "cell_type": "code",
   "execution_count": 115,
   "metadata": {},
   "outputs": [
    {
     "data": {
      "text/plain": [
       "[['0']]"
      ]
     },
     "execution_count": 115,
     "metadata": {},
     "output_type": "execute_result"
    }
   ],
   "source": [
    "model.predict(['good terrible'])"
   ]
  },
  {
   "cell_type": "markdown",
   "metadata": {},
   "source": [
    "# Loading model"
   ]
  },
  {
   "cell_type": "code",
   "execution_count": 8,
   "metadata": {},
   "outputs": [],
   "source": [
    "from pyfasttext import FastText"
   ]
  },
  {
   "cell_type": "code",
   "execution_count": 9,
   "metadata": {},
   "outputs": [],
   "source": [
    "model = FastText('model.bin')"
   ]
  },
  {
   "cell_type": "code",
   "execution_count": 14,
   "metadata": {},
   "outputs": [
    {
     "data": {
      "text/plain": [
       "0"
      ]
     },
     "execution_count": 14,
     "metadata": {},
     "output_type": "execute_result"
    }
   ],
   "source": [
    "int(model.predict(['this movie is bas'])[0][0])"
   ]
  },
  {
   "cell_type": "code",
   "execution_count": 15,
   "metadata": {},
   "outputs": [],
   "source": [
    "import pyfasttext"
   ]
  },
  {
   "cell_type": "code",
   "execution_count": 16,
   "metadata": {},
   "outputs": [
    {
     "data": {
      "text/plain": [
       "'0.4.6'"
      ]
     },
     "execution_count": 16,
     "metadata": {},
     "output_type": "execute_result"
    }
   ],
   "source": [
    "pyfasttext.__version__"
   ]
  },
  {
   "cell_type": "code",
   "execution_count": null,
   "metadata": {},
   "outputs": [],
   "source": []
  }
 ],
 "metadata": {
  "kernelspec": {
   "display_name": "Python 3",
   "language": "python",
   "name": "python3"
  },
  "language_info": {
   "codemirror_mode": {
    "name": "ipython",
    "version": 3
   },
   "file_extension": ".py",
   "mimetype": "text/x-python",
   "name": "python",
   "nbconvert_exporter": "python",
   "pygments_lexer": "ipython3",
   "version": "3.7.6"
  }
 },
 "nbformat": 4,
 "nbformat_minor": 4
}
